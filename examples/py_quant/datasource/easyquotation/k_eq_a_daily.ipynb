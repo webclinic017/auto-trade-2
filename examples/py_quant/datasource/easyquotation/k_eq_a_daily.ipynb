{
 "cells": [
  {
   "cell_type": "code",
   "execution_count": 1,
   "metadata": {},
   "outputs": [
    {
     "name": "stdout",
     "output_type": "stream",
     "text": [
      "sys.path: ['/Users/afirez/studio/python/auto-trade/examples/py_quant/datasource/easyquotation', '/usr/local/anaconda3/envs/py38/lib/python38.zip', '/usr/local/anaconda3/envs/py38/lib/python3.8', '/usr/local/anaconda3/envs/py38/lib/python3.8/lib-dynload', '', '/usr/local/anaconda3/envs/py38/lib/python3.8/site-packages', '/usr/local/anaconda3/envs/py38/lib/python3.8/site-packages/IPython/extensions', '/Users/afirez/.ipython', '/Users/afirez/.local/lib/python3.8/site-packages', '/Users/afirez/studio/python/auto-trade/examples/py_quant/common', '/Users/afirez/studio/python/auto-trade/examples/py_quant/common/common_pg.py']\n",
      "pg_host : 192.168.31.110 ,pg_user : postgres ,pg_db : k_house\n",
      "0.7.5\n"
     ]
    }
   ],
   "source": [
    "from datetime import *\n",
    "import time\n",
    "import easyquotation as eq\n",
    "\n",
    "import pandas as pd\n",
    "\n",
    "import sys\n",
    "sys.path.append('/Users/afirez/studio/python/auto-trade/examples/py_quant/common')\n",
    "sys.path.append('/Users/afirez/studio/python/auto-trade/examples/py_quant/common/common_pg.py')\n",
    "print(\"sys.path:\",sys.path)\n",
    "import common_pg as common_db\n",
    "\n",
    "print(eq.__version__)"
   ]
  },
  {
   "cell_type": "markdown",
   "metadata": {},
   "source": [
    "### 选择行情"
   ]
  },
  {
   "cell_type": "code",
   "execution_count": null,
   "metadata": {},
   "outputs": [],
   "source": [
    "q_sina = eq.use('sina') # 新浪 [sina] # 腾讯 [tencent, qq]"
   ]
  },
  {
   "cell_type": "markdown",
   "metadata": {},
   "source": [
    "### 获取所有股票行情"
   ]
  },
  {
   "cell_type": "code",
   "execution_count": null,
   "metadata": {},
   "outputs": [],
   "source": [
    "data_map_tatol = q_sina.market_snapshot(prefix=True) # prefix 参数指定返回的行情字典中的股票代码 key 是否带 sz /sh 前缀\n",
    "\n",
    "data_map_tatol"
   ]
  },
  {
   "cell_type": "code",
   "execution_count": null,
   "metadata": {},
   "outputs": [],
   "source": [
    "\n",
    "def  df_from_map1(map):\n",
    "    code_list = [key for key in map.keys()]\n",
    "    code_info_list = [map[key] for key in map.keys()]\n",
    "\n",
    "    df_list = [pd.DataFrame.from_dict(\n",
    "    data= item,\n",
    "    orient='index', \n",
    "    # columns= data_item.keys()\n",
    "    ) for item in code_info_list]\n",
    "\n",
    "    df_list_t = [df.transpose() for df in df_list]\n",
    "\n",
    "    df = pd.concat(df_list_t)\n",
    "    df['code'] = code_list\n",
    "    return df\n",
    "\n",
    "df_tatol = df_from_map1(data_map_tatol)\n",
    "\n",
    "df_tatol[:-5]"
   ]
  },
  {
   "cell_type": "code",
   "execution_count": null,
   "metadata": {},
   "outputs": [],
   "source": [
    "# 0. 准备工作\n",
    "\n",
    "dbname = \"k_house\"\n",
    "#   0.1 创建数据库连接\n",
    "\n",
    "#  创建数据库 股票分析数据库 的连接 \n",
    "# conn, curs, engine = common_db.creat_conn_with_pg(dbname=f'{dbname}_for_test')\n",
    "\n",
    "#  创建数据库 k_house 的连接 \n",
    "conn2, curs2, engine2 = common_db.creat_conn_with_pg(dbname=dbname)"
   ]
  },
  {
   "cell_type": "code",
   "execution_count": null,
   "metadata": {},
   "outputs": [],
   "source": [
    "table_name = 'stock_zh_a_timekline_test'\n",
    "\n",
    "df_tatol.to_sql(table_name,\n",
    "          engine2,\n",
    "          index     = False,\n",
    "          if_exists = 'replace')    # 写入数据库  还有一个参数是  append，那是附加在表后\n",
    "\n",
    "# 添加索引\n",
    "# curs2.execute(\"\"\"CREATE  INDEX parallel_tool_1      ON  parallel_tool_并行任务分配信息表  (交易日期); \n",
    "#                 CREATE  INDEX parallel_tool_2      ON  parallel_tool_并行任务分配信息表  (分组序号);\n",
    "#                 CREATE  INDEX parallel_tool_3      ON  parallel_tool_并行任务分配信息表  (处理状态);\"\"\"\n",
    "#             )\n",
    "# conn2.commit()"
   ]
  },
  {
   "cell_type": "code",
   "execution_count": null,
   "metadata": {},
   "outputs": [],
   "source": [
    "df = pd.read_sql_query(f\"\"\"\n",
    "    SELECT *\n",
    "    FROM  {table_name}\n",
    "  \"\"\",\n",
    "   # params = (date,),\n",
    "  con = engine2,\n",
    ")\n",
    "\n",
    "# df.head()\n",
    "df[:-5]"
   ]
  },
  {
   "cell_type": "markdown",
   "metadata": {},
   "source": [
    "### 单只股票"
   ]
  },
  {
   "cell_type": "code",
   "execution_count": null,
   "metadata": {},
   "outputs": [],
   "source": [
    "data_map = q_sina.real(['002594']) # 支持直接指定前缀，如 ‘sh000001’\n",
    "\n",
    "data_map"
   ]
  },
  {
   "cell_type": "code",
   "execution_count": null,
   "metadata": {},
   "outputs": [],
   "source": [
    "code = '002594'\n",
    "data_item = data_map[code]\n",
    "\n",
    "df = pd.DataFrame.from_dict(\n",
    "    data= data_item,\n",
    "    orient='index', \n",
    "    # columns= data_item.keys()\n",
    ")\n",
    "df = df.transpose()\n",
    "df[\"code\"] = [code]\n",
    "df"
   ]
  },
  {
   "cell_type": "markdown",
   "metadata": {},
   "source": [
    "### 多只股票"
   ]
  },
  {
   "cell_type": "code",
   "execution_count": null,
   "metadata": {},
   "outputs": [],
   "source": [
    "data_map = q_sina.stocks(['000001','002594'])\n",
    "data_map"
   ]
  },
  {
   "cell_type": "code",
   "execution_count": null,
   "metadata": {},
   "outputs": [],
   "source": [
    "# code = '002594'\n",
    "# data_item = data_map[code]\n",
    "\n",
    "\n",
    "# df = pd.DataFrame.from_dict(\n",
    "#     data= data_item,\n",
    "#     orient='index', \n",
    "#     # columns= data_item.keys()\n",
    "# )\n",
    "# df = df.transpose()\n",
    "# df[\"code\"] = [code]\n",
    "# df\n",
    "\n",
    "def  df_from_map(map):\n",
    "    code_list = [key for key in map.keys()]\n",
    "    code_info_list = [map[key] for key in map.keys()]\n",
    "\n",
    "    df_list = [pd.DataFrame.from_dict(\n",
    "    data= item,\n",
    "    orient='index', \n",
    "    # columns= data_item.keys()\n",
    "    ) for item in code_info_list]\n",
    "\n",
    "    df_list_t = [df.transpose() for df in df_list]\n",
    "\n",
    "    df = pd.concat(df_list_t)\n",
    "    df['code'] = code_list\n",
    "    return df\n",
    "\n",
    "df = df_from_map(data_map)\n",
    "\n",
    "df"
   ]
  }
 ],
 "metadata": {
  "interpreter": {
   "hash": "6869619afde5ccaa692f7f4d174735a0f86b1f7ceee086952855511b0b6edec0"
  },
  "kernelspec": {
   "display_name": "Python 3.8.11 ('py38')",
   "language": "python",
   "name": "python3"
  },
  "language_info": {
   "codemirror_mode": {
    "name": "ipython",
    "version": 3
   },
   "file_extension": ".py",
   "mimetype": "text/x-python",
   "name": "python",
   "nbconvert_exporter": "python",
   "pygments_lexer": "ipython3",
   "version": "3.8.13"
  },
  "orig_nbformat": 4
 },
 "nbformat": 4,
 "nbformat_minor": 2
}
