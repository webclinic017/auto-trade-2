{
 "cells": [
  {
   "cell_type": "code",
   "execution_count": 2,
   "metadata": {},
   "outputs": [],
   "source": [
    "import datetime as dt\n",
    "import pandas as pd\n",
    "import numpy as np\n",
    "import matplotlib.pyplot as plt\n",
    "import efinance as ef\n",
    "\n",
    "from backtesting.test import GOOG"
   ]
  },
  {
   "cell_type": "code",
   "execution_count": 3,
   "metadata": {},
   "outputs": [
    {
     "name": "stderr",
     "output_type": "stream",
     "text": [
      "Processing => 600519: 100%|██████████| 4/4 [00:04<00:00,  1.21s/it]\n"
     ]
    }
   ],
   "source": [
    "stock_codes = [\n",
    "    '600519', \n",
    "    '002594', \n",
    "    '300750',\n",
    "    '600276',\n",
    "    ]\n",
    "\n",
    "beg = '20180101',\n",
    "end = '20221231',\n",
    "\n",
    "# df = pd.DataFrame(columns=['symbol', 'date', 'open', 'high', 'low', 'close', 'volume'])\n",
    "df = ef.stock.get_quote_history(stock_codes, beg=beg, end=end)\n"
   ]
  },
  {
   "cell_type": "code",
   "execution_count": 4,
   "metadata": {},
   "outputs": [
    {
     "data": {
      "text/html": [
       "<div>\n",
       "<style scoped>\n",
       "    .dataframe tbody tr th:only-of-type {\n",
       "        vertical-align: middle;\n",
       "    }\n",
       "\n",
       "    .dataframe tbody tr th {\n",
       "        vertical-align: top;\n",
       "    }\n",
       "\n",
       "    .dataframe thead th {\n",
       "        text-align: right;\n",
       "    }\n",
       "</style>\n",
       "<table border=\"1\" class=\"dataframe\">\n",
       "  <thead>\n",
       "    <tr style=\"text-align: right;\">\n",
       "      <th></th>\n",
       "      <th>股票名称</th>\n",
       "      <th>股票代码</th>\n",
       "      <th>日期</th>\n",
       "      <th>开盘</th>\n",
       "      <th>收盘</th>\n",
       "      <th>最高</th>\n",
       "      <th>最低</th>\n",
       "      <th>成交量</th>\n",
       "      <th>成交额</th>\n",
       "      <th>振幅</th>\n",
       "      <th>涨跌幅</th>\n",
       "      <th>涨跌额</th>\n",
       "      <th>换手率</th>\n",
       "    </tr>\n",
       "  </thead>\n",
       "  <tbody>\n",
       "    <tr>\n",
       "      <th>0</th>\n",
       "      <td>贵州茅台</td>\n",
       "      <td>600519</td>\n",
       "      <td>2018-01-02</td>\n",
       "      <td>594.56</td>\n",
       "      <td>598.41</td>\n",
       "      <td>604.72</td>\n",
       "      <td>584.45</td>\n",
       "      <td>49612</td>\n",
       "      <td>3.482408e+09</td>\n",
       "      <td>3.42</td>\n",
       "      <td>1.07</td>\n",
       "      <td>6.36</td>\n",
       "      <td>0.39</td>\n",
       "    </tr>\n",
       "    <tr>\n",
       "      <th>1</th>\n",
       "      <td>贵州茅台</td>\n",
       "      <td>600519</td>\n",
       "      <td>2018-01-03</td>\n",
       "      <td>596.06</td>\n",
       "      <td>610.42</td>\n",
       "      <td>615.96</td>\n",
       "      <td>594.30</td>\n",
       "      <td>52019</td>\n",
       "      <td>3.713524e+09</td>\n",
       "      <td>3.62</td>\n",
       "      <td>2.01</td>\n",
       "      <td>12.01</td>\n",
       "      <td>0.41</td>\n",
       "    </tr>\n",
       "    <tr>\n",
       "      <th>2</th>\n",
       "      <td>贵州茅台</td>\n",
       "      <td>600519</td>\n",
       "      <td>2018-01-04</td>\n",
       "      <td>615.96</td>\n",
       "      <td>631.63</td>\n",
       "      <td>638.06</td>\n",
       "      <td>613.89</td>\n",
       "      <td>72205</td>\n",
       "      <td>5.309890e+09</td>\n",
       "      <td>3.96</td>\n",
       "      <td>3.47</td>\n",
       "      <td>21.21</td>\n",
       "      <td>0.57</td>\n",
       "    </tr>\n",
       "    <tr>\n",
       "      <th>3</th>\n",
       "      <td>贵州茅台</td>\n",
       "      <td>600519</td>\n",
       "      <td>2018-01-05</td>\n",
       "      <td>635.56</td>\n",
       "      <td>632.92</td>\n",
       "      <td>640.59</td>\n",
       "      <td>622.78</td>\n",
       "      <td>39989</td>\n",
       "      <td>2.946493e+09</td>\n",
       "      <td>2.82</td>\n",
       "      <td>0.20</td>\n",
       "      <td>1.29</td>\n",
       "      <td>0.32</td>\n",
       "    </tr>\n",
       "    <tr>\n",
       "      <th>4</th>\n",
       "      <td>贵州茅台</td>\n",
       "      <td>600519</td>\n",
       "      <td>2018-01-08</td>\n",
       "      <td>629.58</td>\n",
       "      <td>646.69</td>\n",
       "      <td>651.06</td>\n",
       "      <td>629.58</td>\n",
       "      <td>52205</td>\n",
       "      <td>3.899952e+09</td>\n",
       "      <td>3.39</td>\n",
       "      <td>2.18</td>\n",
       "      <td>13.77</td>\n",
       "      <td>0.42</td>\n",
       "    </tr>\n",
       "  </tbody>\n",
       "</table>\n",
       "</div>"
      ],
      "text/plain": [
       "   股票名称    股票代码          日期      开盘      收盘      最高      最低    成交量  \\\n",
       "0  贵州茅台  600519  2018-01-02  594.56  598.41  604.72  584.45  49612   \n",
       "1  贵州茅台  600519  2018-01-03  596.06  610.42  615.96  594.30  52019   \n",
       "2  贵州茅台  600519  2018-01-04  615.96  631.63  638.06  613.89  72205   \n",
       "3  贵州茅台  600519  2018-01-05  635.56  632.92  640.59  622.78  39989   \n",
       "4  贵州茅台  600519  2018-01-08  629.58  646.69  651.06  629.58  52205   \n",
       "\n",
       "            成交额    振幅   涨跌幅    涨跌额   换手率  \n",
       "0  3.482408e+09  3.42  1.07   6.36  0.39  \n",
       "1  3.713524e+09  3.62  2.01  12.01  0.41  \n",
       "2  5.309890e+09  3.96  3.47  21.21  0.57  \n",
       "3  2.946493e+09  2.82  0.20   1.29  0.32  \n",
       "4  3.899952e+09  3.39  2.18  13.77  0.42  "
      ]
     },
     "execution_count": 4,
     "metadata": {},
     "output_type": "execute_result"
    }
   ],
   "source": [
    "type(df['600519'])\n",
    "df['600519'].head()"
   ]
  },
  {
   "cell_type": "code",
   "execution_count": 5,
   "metadata": {},
   "outputs": [
    {
     "name": "stderr",
     "output_type": "stream",
     "text": [
      "/var/folders/jm/g284dt7s285942ndw76zxfk40000gp/T/ipykernel_60021/112788554.py:2: SettingWithCopyWarning: \n",
      "A value is trying to be set on a copy of a slice from a DataFrame.\n",
      "Try using .loc[row_indexer,col_indexer] = value instead\n",
      "\n",
      "See the caveats in the documentation: https://pandas.pydata.org/pandas-docs/stable/user_guide/indexing.html#returning-a-view-versus-a-copy\n",
      "  new_df['日期'] = pd.to_datetime(new_df['日期'])\n",
      "/var/folders/jm/g284dt7s285942ndw76zxfk40000gp/T/ipykernel_60021/112788554.py:4: SettingWithCopyWarning: \n",
      "A value is trying to be set on a copy of a slice from a DataFrame.\n",
      "Try using .loc[row_indexer,col_indexer] = value instead\n",
      "\n",
      "See the caveats in the documentation: https://pandas.pydata.org/pandas-docs/stable/user_guide/indexing.html#returning-a-view-versus-a-copy\n",
      "  new_df[k] = df[k][['收盘']].astype(float)\n"
     ]
    }
   ],
   "source": [
    "new_df = df[stock_codes[0]][[\"日期\"]]\n",
    "new_df['日期'] = pd.to_datetime(new_df['日期'])\n",
    "for k, v in df.items():\n",
    "    new_df[k] = df[k][['收盘']].astype(float)\n",
    "\n",
    "# new_df = new_df.pivot(columns=['日期'])\n",
    "new_df = new_df.reset_index(drop = True)"
   ]
  },
  {
   "cell_type": "code",
   "execution_count": 6,
   "metadata": {},
   "outputs": [
    {
     "data": {
      "text/html": [
       "<div>\n",
       "<style scoped>\n",
       "    .dataframe tbody tr th:only-of-type {\n",
       "        vertical-align: middle;\n",
       "    }\n",
       "\n",
       "    .dataframe tbody tr th {\n",
       "        vertical-align: top;\n",
       "    }\n",
       "\n",
       "    .dataframe thead th {\n",
       "        text-align: right;\n",
       "    }\n",
       "</style>\n",
       "<table border=\"1\" class=\"dataframe\">\n",
       "  <thead>\n",
       "    <tr style=\"text-align: right;\">\n",
       "      <th></th>\n",
       "      <th>日期</th>\n",
       "      <th>600276</th>\n",
       "      <th>002594</th>\n",
       "      <th>300750</th>\n",
       "      <th>600519</th>\n",
       "    </tr>\n",
       "  </thead>\n",
       "  <tbody>\n",
       "    <tr>\n",
       "      <th>0</th>\n",
       "      <td>2018-01-02</td>\n",
       "      <td>29.90</td>\n",
       "      <td>65.19</td>\n",
       "      <td>34.94</td>\n",
       "      <td>598.41</td>\n",
       "    </tr>\n",
       "    <tr>\n",
       "      <th>1</th>\n",
       "      <td>2018-01-03</td>\n",
       "      <td>29.97</td>\n",
       "      <td>65.46</td>\n",
       "      <td>38.56</td>\n",
       "      <td>610.42</td>\n",
       "    </tr>\n",
       "    <tr>\n",
       "      <th>2</th>\n",
       "      <td>2018-01-04</td>\n",
       "      <td>30.74</td>\n",
       "      <td>64.39</td>\n",
       "      <td>42.54</td>\n",
       "      <td>631.63</td>\n",
       "    </tr>\n",
       "    <tr>\n",
       "      <th>3</th>\n",
       "      <td>2018-01-05</td>\n",
       "      <td>30.63</td>\n",
       "      <td>63.72</td>\n",
       "      <td>46.92</td>\n",
       "      <td>632.92</td>\n",
       "    </tr>\n",
       "    <tr>\n",
       "      <th>4</th>\n",
       "      <td>2018-01-08</td>\n",
       "      <td>31.05</td>\n",
       "      <td>64.55</td>\n",
       "      <td>51.74</td>\n",
       "      <td>646.69</td>\n",
       "    </tr>\n",
       "  </tbody>\n",
       "</table>\n",
       "</div>"
      ],
      "text/plain": [
       "          日期  600276  002594  300750  600519\n",
       "0 2018-01-02   29.90   65.19   34.94  598.41\n",
       "1 2018-01-03   29.97   65.46   38.56  610.42\n",
       "2 2018-01-04   30.74   64.39   42.54  631.63\n",
       "3 2018-01-05   30.63   63.72   46.92  632.92\n",
       "4 2018-01-08   31.05   64.55   51.74  646.69"
      ]
     },
     "execution_count": 6,
     "metadata": {},
     "output_type": "execute_result"
    }
   ],
   "source": [
    "new_df.head()"
   ]
  },
  {
   "cell_type": "code",
   "execution_count": 7,
   "metadata": {},
   "outputs": [],
   "source": [
    "new_df = new_df[stock_codes]"
   ]
  },
  {
   "cell_type": "code",
   "execution_count": 8,
   "metadata": {},
   "outputs": [
    {
     "data": {
      "text/html": [
       "<div>\n",
       "<style scoped>\n",
       "    .dataframe tbody tr th:only-of-type {\n",
       "        vertical-align: middle;\n",
       "    }\n",
       "\n",
       "    .dataframe tbody tr th {\n",
       "        vertical-align: top;\n",
       "    }\n",
       "\n",
       "    .dataframe thead th {\n",
       "        text-align: right;\n",
       "    }\n",
       "</style>\n",
       "<table border=\"1\" class=\"dataframe\">\n",
       "  <thead>\n",
       "    <tr style=\"text-align: right;\">\n",
       "      <th></th>\n",
       "      <th>600519</th>\n",
       "      <th>002594</th>\n",
       "      <th>300750</th>\n",
       "      <th>600276</th>\n",
       "    </tr>\n",
       "  </thead>\n",
       "  <tbody>\n",
       "    <tr>\n",
       "      <th>0</th>\n",
       "      <td>598.41</td>\n",
       "      <td>65.19</td>\n",
       "      <td>34.94</td>\n",
       "      <td>29.90</td>\n",
       "    </tr>\n",
       "    <tr>\n",
       "      <th>1</th>\n",
       "      <td>610.42</td>\n",
       "      <td>65.46</td>\n",
       "      <td>38.56</td>\n",
       "      <td>29.97</td>\n",
       "    </tr>\n",
       "    <tr>\n",
       "      <th>2</th>\n",
       "      <td>631.63</td>\n",
       "      <td>64.39</td>\n",
       "      <td>42.54</td>\n",
       "      <td>30.74</td>\n",
       "    </tr>\n",
       "    <tr>\n",
       "      <th>3</th>\n",
       "      <td>632.92</td>\n",
       "      <td>63.72</td>\n",
       "      <td>46.92</td>\n",
       "      <td>30.63</td>\n",
       "    </tr>\n",
       "    <tr>\n",
       "      <th>4</th>\n",
       "      <td>646.69</td>\n",
       "      <td>64.55</td>\n",
       "      <td>51.74</td>\n",
       "      <td>31.05</td>\n",
       "    </tr>\n",
       "    <tr>\n",
       "      <th>...</th>\n",
       "      <td>...</td>\n",
       "      <td>...</td>\n",
       "      <td>...</td>\n",
       "      <td>...</td>\n",
       "    </tr>\n",
       "    <tr>\n",
       "      <th>1210</th>\n",
       "      <td>1720.15</td>\n",
       "      <td>262.42</td>\n",
       "      <td>NaN</td>\n",
       "      <td>37.56</td>\n",
       "    </tr>\n",
       "    <tr>\n",
       "      <th>1211</th>\n",
       "      <td>1733.00</td>\n",
       "      <td>262.12</td>\n",
       "      <td>NaN</td>\n",
       "      <td>37.07</td>\n",
       "    </tr>\n",
       "    <tr>\n",
       "      <th>1212</th>\n",
       "      <td>1733.00</td>\n",
       "      <td>254.62</td>\n",
       "      <td>NaN</td>\n",
       "      <td>37.40</td>\n",
       "    </tr>\n",
       "    <tr>\n",
       "      <th>1213</th>\n",
       "      <td>1719.00</td>\n",
       "      <td>254.76</td>\n",
       "      <td>NaN</td>\n",
       "      <td>38.13</td>\n",
       "    </tr>\n",
       "    <tr>\n",
       "      <th>1214</th>\n",
       "      <td>1727.00</td>\n",
       "      <td>256.97</td>\n",
       "      <td>NaN</td>\n",
       "      <td>38.53</td>\n",
       "    </tr>\n",
       "  </tbody>\n",
       "</table>\n",
       "<p>1215 rows × 4 columns</p>\n",
       "</div>"
      ],
      "text/plain": [
       "       600519  002594  300750  600276\n",
       "0      598.41   65.19   34.94   29.90\n",
       "1      610.42   65.46   38.56   29.97\n",
       "2      631.63   64.39   42.54   30.74\n",
       "3      632.92   63.72   46.92   30.63\n",
       "4      646.69   64.55   51.74   31.05\n",
       "...       ...     ...     ...     ...\n",
       "1210  1720.15  262.42     NaN   37.56\n",
       "1211  1733.00  262.12     NaN   37.07\n",
       "1212  1733.00  254.62     NaN   37.40\n",
       "1213  1719.00  254.76     NaN   38.13\n",
       "1214  1727.00  256.97     NaN   38.53\n",
       "\n",
       "[1215 rows x 4 columns]"
      ]
     },
     "execution_count": 8,
     "metadata": {},
     "output_type": "execute_result"
    }
   ],
   "source": [
    "new_df"
   ]
  },
  {
   "cell_type": "code",
   "execution_count": 10,
   "metadata": {},
   "outputs": [
    {
     "data": {
      "text/html": [
       "<div>\n",
       "<style scoped>\n",
       "    .dataframe tbody tr th:only-of-type {\n",
       "        vertical-align: middle;\n",
       "    }\n",
       "\n",
       "    .dataframe tbody tr th {\n",
       "        vertical-align: top;\n",
       "    }\n",
       "\n",
       "    .dataframe thead th {\n",
       "        text-align: right;\n",
       "    }\n",
       "</style>\n",
       "<table border=\"1\" class=\"dataframe\">\n",
       "  <thead>\n",
       "    <tr style=\"text-align: right;\">\n",
       "      <th></th>\n",
       "      <th>600519</th>\n",
       "      <th>002594</th>\n",
       "      <th>300750</th>\n",
       "      <th>600276</th>\n",
       "    </tr>\n",
       "  </thead>\n",
       "  <tbody>\n",
       "    <tr>\n",
       "      <th>0</th>\n",
       "      <td>NaN</td>\n",
       "      <td>NaN</td>\n",
       "      <td>NaN</td>\n",
       "      <td>NaN</td>\n",
       "    </tr>\n",
       "    <tr>\n",
       "      <th>1</th>\n",
       "      <td>0.019871</td>\n",
       "      <td>0.004133</td>\n",
       "      <td>0.098583</td>\n",
       "      <td>0.002338</td>\n",
       "    </tr>\n",
       "    <tr>\n",
       "      <th>2</th>\n",
       "      <td>0.034157</td>\n",
       "      <td>-0.016481</td>\n",
       "      <td>0.098229</td>\n",
       "      <td>0.025368</td>\n",
       "    </tr>\n",
       "    <tr>\n",
       "      <th>3</th>\n",
       "      <td>0.002040</td>\n",
       "      <td>-0.010460</td>\n",
       "      <td>0.097999</td>\n",
       "      <td>-0.003585</td>\n",
       "    </tr>\n",
       "    <tr>\n",
       "      <th>4</th>\n",
       "      <td>0.021523</td>\n",
       "      <td>0.012942</td>\n",
       "      <td>0.097787</td>\n",
       "      <td>0.013619</td>\n",
       "    </tr>\n",
       "  </tbody>\n",
       "</table>\n",
       "</div>"
      ],
      "text/plain": [
       "     600519    002594    300750    600276\n",
       "0       NaN       NaN       NaN       NaN\n",
       "1  0.019871  0.004133  0.098583  0.002338\n",
       "2  0.034157 -0.016481  0.098229  0.025368\n",
       "3  0.002040 -0.010460  0.097999 -0.003585\n",
       "4  0.021523  0.012942  0.097787  0.013619"
      ]
     },
     "execution_count": 10,
     "metadata": {},
     "output_type": "execute_result"
    }
   ],
   "source": [
    "log_returns = np.log(new_df/ new_df.shift())\n",
    "log_returns.head()"
   ]
  },
  {
   "cell_type": "markdown",
   "metadata": {},
   "source": [
    "相关性分析解决以下两个问题\n",
    "\n",
    "- 判断两个或多个变量之间的统计学关联\n",
    "- 如果存在关联，进一步分析关联强度和方向\n",
    "\n",
    "Pearson 相关系数\n",
    "用于度量两个变量 X 和 Y 之间的相关程度（线性相关），其值介于 -1 到 1 之间，\n",
    "定义为两个变量的协方差除以他们的标准差之积\n",
    "\n",
    "Spearman 秩相关系数\n",
    "使利用两个变量的秩次大小做相关系数线性相关分析，对原始变量的分布不做要求，\n",
    "属于非参数统计方法。因此他的适用范围比 Pearson 相关系数要广的多，\n",
    "即使原始数据是等级资料也可以计算 Spearman 相关系数\n",
    "\n",
    "KenDall‘s tau-b 相关系数\n",
    "同样是一种秩相关系数，用于反应分类变量相关性的指标，\n",
    "适用于两个变量均为有序分类（有序分类表示类间有强度的逐级递增关系）的情况，\n",
    "用希腊字母 t（tau） 表示其值\n"
   ]
  },
  {
   "cell_type": "code",
   "execution_count": 11,
   "metadata": {},
   "outputs": [
    {
     "data": {
      "text/html": [
       "<div>\n",
       "<style scoped>\n",
       "    .dataframe tbody tr th:only-of-type {\n",
       "        vertical-align: middle;\n",
       "    }\n",
       "\n",
       "    .dataframe tbody tr th {\n",
       "        vertical-align: top;\n",
       "    }\n",
       "\n",
       "    .dataframe thead th {\n",
       "        text-align: right;\n",
       "    }\n",
       "</style>\n",
       "<table border=\"1\" class=\"dataframe\">\n",
       "  <thead>\n",
       "    <tr style=\"text-align: right;\">\n",
       "      <th></th>\n",
       "      <th>600519</th>\n",
       "      <th>002594</th>\n",
       "      <th>300750</th>\n",
       "      <th>600276</th>\n",
       "    </tr>\n",
       "  </thead>\n",
       "  <tbody>\n",
       "    <tr>\n",
       "      <th>600519</th>\n",
       "      <td>1.000000</td>\n",
       "      <td>0.347145</td>\n",
       "      <td>-0.007283</td>\n",
       "      <td>0.510695</td>\n",
       "    </tr>\n",
       "    <tr>\n",
       "      <th>002594</th>\n",
       "      <td>0.347145</td>\n",
       "      <td>1.000000</td>\n",
       "      <td>0.023604</td>\n",
       "      <td>0.269922</td>\n",
       "    </tr>\n",
       "    <tr>\n",
       "      <th>300750</th>\n",
       "      <td>-0.007283</td>\n",
       "      <td>0.023604</td>\n",
       "      <td>1.000000</td>\n",
       "      <td>-0.011294</td>\n",
       "    </tr>\n",
       "    <tr>\n",
       "      <th>600276</th>\n",
       "      <td>0.510695</td>\n",
       "      <td>0.269922</td>\n",
       "      <td>-0.011294</td>\n",
       "      <td>1.000000</td>\n",
       "    </tr>\n",
       "  </tbody>\n",
       "</table>\n",
       "</div>"
      ],
      "text/plain": [
       "          600519    002594    300750    600276\n",
       "600519  1.000000  0.347145 -0.007283  0.510695\n",
       "002594  0.347145  1.000000  0.023604  0.269922\n",
       "300750 -0.007283  0.023604  1.000000 -0.011294\n",
       "600276  0.510695  0.269922 -0.011294  1.000000"
      ]
     },
     "execution_count": 11,
     "metadata": {},
     "output_type": "execute_result"
    }
   ],
   "source": [
    "# 相关矩阵\n",
    "log_returns.corr()"
   ]
  },
  {
   "cell_type": "code",
   "execution_count": 12,
   "metadata": {},
   "outputs": [
    {
     "data": {
      "text/plain": [
       "<matplotlib.axes._subplots.AxesSubplot at 0x7fe3b9e154f0>"
      ]
     },
     "execution_count": 12,
     "metadata": {},
     "output_type": "execute_result"
    },
    {
     "data": {
      "image/png": "[encoded data removed]",
      "text/plain": [
       "<Figure size 640x480 with 1 Axes>"
      ]
     },
     "metadata": {},
     "output_type": "display_data"
    }
   ],
   "source": [
    "norm = new_df / new_df.iloc[0]\n",
    "fig, ax = plt.subplots()\n",
    "norm.plot(ax=ax)"
   ]
  },
  {
   "cell_type": "markdown",
   "metadata": {},
   "source": [
    "对冲是金融学术语，指特意减低一项投资的投资。\n",
    "\n",
    "它是一项能减低商业风险的同时仍然能在投资中获利的手法。\n",
    "\n",
    "一般对冲是同时进行两笔行情相关、方法相反、数量相当、盈亏相抵的交易。\n",
    "\n",
    "行情相关是指影响两种商品价格行情的市场供求关系存在统一性，\n",
    "若供求关系若发生变化，同时会影响两种商品的价格，且价格变化的方向大体一致。\n",
    "\n",
    "方向相反指两笔交易的买卖方向相反，这样无论价格向什么方向变化，总是一盈一亏。\n",
    "\n",
    "当然要做到盈亏相抵，两笔交易的数量大小需根据各自价格变动的幅度来确定， 大体做到数量相当。\n",
    "\n",
    "《量化投资--策略与技术》丁鹏的一书中，将对冲分为四种类型，分别为\n",
    "- 股指期货对冲\n",
    "- 商品期货对冲\n",
    "- 统计套利\n",
    "- 期权套利\n"
   ]
  },
  {
   "cell_type": "code",
   "execution_count": 16,
   "metadata": {},
   "outputs": [],
   "source": [
    "def evaluate_split(data, portfolio):\n",
    "    eval_set = ((data/data.iloc[0]) * portfolio).sum(axis=1)\n",
    "    \n",
    "    cagr = (eval_set.iloc[-1]/eval_set.iloc[0])**(1/10)-1\n",
    "\n",
    "    rolling_max = eval_set.cummax()\n",
    "    daily_dropdown = eval_set / rolling_max -1\n",
    "    dropdown = daily_dropdown.cummin().iloc[-1]\n",
    "\n",
    "    log_returns = np.log(eval_set/eval_set.shift())\n",
    "    volatility = log_returns.std() * (255**.5)\n",
    "\n",
    "    return cagr, dropdown, volatility"
   ]
  },
  {
   "cell_type": "code",
   "execution_count": 17,
   "metadata": {},
   "outputs": [
    {
     "data": {
      "text/plain": [
       "(0.0733237303704386, -0.7528091902664916, 0.4813819999342854)"
      ]
     },
     "execution_count": 17,
     "metadata": {},
     "output_type": "execute_result"
    }
   ],
   "source": [
    "evaluate_split(new_df, [1/4] * 4)"
   ]
  },
  {
   "cell_type": "code",
   "execution_count": 18,
   "metadata": {},
   "outputs": [
    {
     "data": {
      "text/plain": [
       "(0.11180686038570942, -0.47674262840212445, 0.3568327596122333)"
      ]
     },
     "execution_count": 18,
     "metadata": {},
     "output_type": "execute_result"
    }
   ],
   "source": [
    "evaluate_split(new_df, [1, 0, 0, 0])"
   ]
  },
  {
   "cell_type": "code",
   "execution_count": 19,
   "metadata": {},
   "outputs": [
    {
     "data": {
      "text/plain": [
       "(0.14701776512078446, -0.46230121608980357, 0.4760700148130877)"
      ]
     },
     "execution_count": 19,
     "metadata": {},
     "output_type": "execute_result"
    }
   ],
   "source": [
    "evaluate_split(new_df, [0, 1, 0, 0])"
   ]
  },
  {
   "cell_type": "code",
   "execution_count": 28,
   "metadata": {},
   "outputs": [
    {
     "name": "stderr",
     "output_type": "stream",
     "text": [
      "/usr/local/anaconda3/envs/py38/lib/python3.8/site-packages/pandas/core/arraylike.py:364: RuntimeWarning: divide by zero encountered in log\n",
      "  result = getattr(ufunc, method)(*inputs, **kwargs)\n"
     ]
    },
    {
     "data": {
      "text/plain": [
       "(-1.0, -1.0, nan)"
      ]
     },
     "execution_count": 28,
     "metadata": {},
     "output_type": "execute_result"
    }
   ],
   "source": [
    "# error: divide zero\n",
    "evaluate_split(new_df, [0, 0, 1, 0])"
   ]
  },
  {
   "cell_type": "code",
   "execution_count": 21,
   "metadata": {},
   "outputs": [
    {
     "data": {
      "text/plain": [
       "(0.025682113479239765, -0.7112344257145848, 0.37015954986250155)"
      ]
     },
     "execution_count": 21,
     "metadata": {},
     "output_type": "execute_result"
    }
   ],
   "source": [
    "evaluate_split(new_df, [0, 0, 0, 1])"
   ]
  },
  {
   "cell_type": "markdown",
   "metadata": {},
   "source": [
    "## 如何分配仓位？\n",
    "回归，beta， CAPM\n",
    "\n",
    "CAPM（资本资产定价模型）大概是资产定价中使用最广泛的模型， 它的之所以如此流行有一下几个原因。\n",
    "\n",
    "作为单因素线性模型，无论是理解还是实现都非常简单。\n",
    "\n",
    "只要下载上市公司的历史价格数据和市场指数数据，先计算收益，然后估算股票的市场风险。\n",
    "\n",
    "这个最简单的单因子资产定价模型可以作为其他更复杂的定价模型（例如 Fama-French 3因子模型）的基础。\n",
    "\n",
    "接下来，我们将简要介绍CAPM模型，然后利用yfinance的数据作为样例，介绍beta的估计和调整方法。"
   ]
  },
  {
   "cell_type": "markdown",
   "metadata": {},
   "source": [
    "CAPM简要介绍\n",
    "\n",
    "马科维茨(Markowitz，1952)的分散投资与效率组合投资理论第一次以严谨的数理工具为手段向人们展示了一个风险厌恶的投资者在众多风险资产中如何构建最优资产组合的方法。\n",
    "\n",
    "CAPM阐述了在投资者都采用马科维茨的理论进行投资管理的条件下市场均衡状态的形成，\n",
    "\n",
    "其核心在于资产的预期收益与预期风险具有正相关关系。\n",
    "\n",
    "具体而言，根据资本资产定价模型，对于一个给定的资产ii，它的期望收益率和市场投资组合的期望收益率之间的关系可以表示为：\n",
    "\n",
    "E(R_i) = R_f + B_i(E(R_m)-R_f)    （1）\n",
    "\n",
    "其中，\n",
    "\n",
    "E(R_i) –资产ii的期望收益率；\n",
    "\n",
    "R_f –无风险收益率，通常以短期国债的利率来近似替代；\n",
    "\n",
    "B_i – 资产ii的Beta（系统性风险）系数；\n",
    "\n",
    "E(R_m) – 市场期望回报率 (Expected Market Return)。\n",
    "\n",
    "实际上，如果我们去掉公式的期望 (1)，则可以得到：\n",
    "\n",
    "R_i - R_f = a + B_i(R_m-R_f)\n",
    "\n",
    "其中的 a 就代表资产 i 本身的超额收益。\n",
    "\n",
    "毫无疑问，CAPM中，Beta 系数是至关重要的：\n",
    "\n",
    "B_i = Cov(R_i, R_m) / Var(R_m) . (2)\n",
    "\n",
    "从公式(1)和(2)可以发现，Beta 系数的含义为，市场风险溢价每提高1%,资产的收益率提高 B%，\n",
    "\n",
    "所以Beta系数越大，则该资产相对市场的波动性也越大。"
   ]
  },
  {
   "cell_type": "markdown",
   "metadata": {},
   "source": [
    "CAPM计算示例\n",
    "\n",
    "数据获取\n",
    "\n",
    "我们以苹果公司在2014年1月1日~2018年12月31日期间的股票作为研究对象，\n",
    "\n",
    "首先读取相关数据，包括个股（AAPL）和市场（^GSPC， Yahoo Finance中标普500的代码）："
   ]
  },
  {
   "cell_type": "code",
   "execution_count": null,
   "metadata": {},
   "outputs": [],
   "source": [
    "from scipy import stats\n",
    "import numpy as np\n",
    "import pandas as pd\n",
    "\n",
    "import matplotlib as mpl\n",
    "import matplotlib.pyplot as plt\n",
    "import pandas_datareader.data as pddata\n",
    "import altair as alt\n",
    "import statsmodels.api as sm\n",
    "\n",
    "plt.style.use('ggplot')\n",
    "mpl.rcParams['figure.figsize']= [15, 9]"
   ]
  },
  {
   "cell_type": "code",
   "execution_count": null,
   "metadata": {},
   "outputs": [],
   "source": [
    "beg_date = '2014-01-01'\n",
    "end_date = '2018-12-31'\n",
    "\n",
    "ticker = 'AAPL'\n",
    "stock_apple = pddata.DataReader(name=ticker, data_source='yahoo',\n",
    "                              start=beg_date, end=end_date,\n",
    "                              retry_count=3, pause=0.1,\n",
    "                              session=None, access_key=None)\n",
    "return_apple = stock_apple['Adj Close'] / stock_apple['Adj Close'].shift(1) - 1\n",
    "return_apple.dropna(inplace=True)\n",
    "return_apple = return_apple.to_frame()\n",
    "return_apple.columns = ['ret']\n",
    "\n",
    "ticker = '^GSPC'\n",
    "sp500 = pddata.DataReader(name=ticker, data_source='yahoo',\n",
    "                         start=beg_date, end=end_date,\n",
    "                         retry_count=3, pause=0.1,\n",
    "                         session=None, access_key=None)\n",
    "return_market = sp500['Adj Close'] / sp500['Adj Close'].shift(1) - 1\n",
    "return_market.dropna(inplace=True)\n",
    "return_market = return_market.to_frame()\n",
    "return_market.columns = ['ret']\n",
    "sp500.head()"
   ]
  },
  {
   "cell_type": "code",
   "execution_count": null,
   "metadata": {},
   "outputs": [],
   "source": [
    "fig, ax1 = plt.subplots()\n",
    "\n",
    "color = 'tab:red'\n",
    "ax1.set_xlabel('Date')\n",
    "ax1.set_ylabel('Stock Price', color=color)\n",
    "ax1.plot(stock_apple.index, stock_apple['Adj Close'], color=color)\n",
    "ax1.tick_params(axis='y', labelcolor=color)\n",
    "\n",
    "ax2 = ax1.twinx()  # instantiate a second axes that shares the same x-axis\n",
    "\n",
    "color = 'tab:blue'\n",
    "ax2.set_ylabel('SP500 Index', color=color)  # we already handled the x-label with ax1\n",
    "ax2.plot(sp500.index, sp500['Adj Close'], color=color)\n",
    "ax2.tick_params(axis='y', labelcolor=color)\n",
    "\n",
    "fig.tight_layout()  # otherwise the right y-label is slightly clipped\n",
    "plt.show()"
   ]
  },
  {
   "cell_type": "code",
   "execution_count": null,
   "metadata": {},
   "outputs": [],
   "source": [
    "fig, ax = plt.subplots()\n",
    "\n",
    "color = 'tab:red'\n",
    "ax.set_xlabel('Date')\n",
    "ax.set_ylabel('Return')\n",
    "ax.plot(return_apple.index, return_apple.ret, label='AAPL Return')\n",
    "ax.plot(return_market.index, return_market.ret, label='Market Return')\n",
    "ax.legend()\n",
    "plt.show()"
   ]
  },
  {
   "cell_type": "markdown",
   "metadata": {},
   "source": [
    "估计Beta系数\n",
    "\n",
    "从前面的分析可以知道，Beta系数就是线性回归的一个参数（斜率），所以通过线性回归就可以得到。\n",
    "\n",
    "在python中至少有三种方法可以进行闲心回归的参数估计。\n",
    "\n",
    "scipy包的linregress方法"
   ]
  },
  {
   "cell_type": "code",
   "execution_count": null,
   "metadata": {},
   "outputs": [],
   "source": [
    "results = stats.linregress(return_market['ret'], return_apple['ret'])\n",
    "print(results)\n",
    "\n",
    "# LinregressResult(slope=1.1272452267207456, intercept=0.00046898978447086414, rvalue=0.620220452518429, pvalue=1.311085503675735e-134, stderr=0.040228176150808315)"
   ]
  },
  {
   "cell_type": "markdown",
   "metadata": {},
   "source": [
    "numpy的polyfit方法"
   ]
  },
  {
   "cell_type": "code",
   "execution_count": null,
   "metadata": {},
   "outputs": [],
   "source": [
    "np.polyfit(return_market['ret'],return_apple['ret'],deg=1)\n",
    "\n",
    "# array([1.12724523e+00, 4.68989784e-04])"
   ]
  },
  {
   "cell_type": "markdown",
   "metadata": {},
   "source": [
    "statsmodel的OLS方法"
   ]
  },
  {
   "cell_type": "code",
   "execution_count": null,
   "metadata": {},
   "outputs": [],
   "source": [
    "x = sm.add_constant(return_market['ret'])\n",
    "ols_results = sm.OLS(return_apple['ret'], x).fit()\n",
    "print(ols_results.summary())"
   ]
  },
  {
   "cell_type": "markdown",
   "metadata": {},
   "source": [
    "```\n",
    "                            OLS Regression Results                            \n",
    "==============================================================================\n",
    "Dep. Variable:                    ret   R-squared:                       0.385\n",
    "Model:                            OLS   Adj. R-squared:                  0.384\n",
    "Method:                 Least Squares   F-statistic:                     785.2\n",
    "Date:                Mon, 25 Mar 2019   Prob (F-statistic):          1.31e-134\n",
    "Time:                        10:37:47   Log-Likelihood:                 3792.1\n",
    "No. Observations:                1258   AIC:                            -7580.\n",
    "Df Residuals:                    1256   BIC:                            -7570.\n",
    "Df Model:                           1                                         \n",
    "Covariance Type:            nonrobust                                         \n",
    "==============================================================================\n",
    "                 coef    std err          t      P>|t|      [0.025      0.975]\n",
    "------------------------------------------------------------------------------\n",
    "const          0.0005      0.000      1.399      0.162      -0.000       0.001\n",
    "ret            1.1272      0.040     28.021      0.000       1.048       1.206\n",
    "==============================================================================\n",
    "Omnibus:                      210.950   Durbin-Watson:                   1.899\n",
    "Prob(Omnibus):                  0.000   Jarque-Bera (JB):             3549.752\n",
    "Skew:                           0.158   Prob(JB):                         0.00\n",
    "Kurtosis:                      11.223   Cond. No.                         120.\n",
    "==============================================================================\n",
    "```"
   ]
  },
  {
   "cell_type": "code",
   "execution_count": null,
   "metadata": {},
   "outputs": [],
   "source": [
    "plt.plot(return_market['ret'], return_apple['ret'], '.')\n",
    "x = np.linspace(-0.05, 0.05, 100)\n",
    "y = results.slope * x + results.intercept\n",
    "plt.plot(x, y)\n",
    "plt.show()"
   ]
  },
  {
   "cell_type": "markdown",
   "metadata": {},
   "source": [
    "可以看到，三种方法计算的Beta参数是一样的：1.1272。\n",
    "\n",
    "但是，需要注意的是，我们并没有用到公式(1)(1)中的无风险利率R_f，\n",
    "\n",
    "但是实际上如果R_f\n",
    "​\n",
    "是常数的话，并不需要用到R_f\n",
    "​\n",
    "（可以从公式(2)(2)看出）。当然如果以美国国债利率作为无风险利率的话，\n",
    "那么可能需要用到其他模型了（例如Fama-French三因子模型）。\n",
    "\n"
   ]
  },
  {
   "cell_type": "markdown",
   "metadata": {},
   "source": [
    "滑窗Beta\n",
    "\n",
    "有时，我们需要根据滑动窗口，例如三年的窗口，生成beta时间序列。 \n",
    "\n",
    "例如，我们可以估计苹果公司股票的年度Beta："
   ]
  },
  {
   "cell_type": "code",
   "execution_count": null,
   "metadata": {},
   "outputs": [],
   "source": [
    "def ret_f(ticker, beg_date, end_date):\n",
    "    p = pddata.DataReader(name=ticker, data_source='yahoo',\n",
    "                              start=beg_date, end=end_date,\n",
    "                              retry_count=3, pause=0.1,\n",
    "                              session=None, access_key=None)\n",
    "    ret = p / p.shift(1)\n",
    "    return ret.dropna()"
   ]
  },
  {
   "cell_type": "code",
   "execution_count": null,
   "metadata": {},
   "outputs": [],
   "source": [
    "years = return_apple.index.strftime('%Y').unique()\n",
    "for year in years:\n",
    "    y = return_apple[year]\n",
    "    x = return_market[year]\n",
    "    (beta,alpha,r_value,p_value,std_err) = stats.linregress(x.ret, y.ret)\n",
    "    alpha = round(alpha, 6)\n",
    "    beta = round(beta, 4)\n",
    "    r_value = round(r_value, 4)\n",
    "    p_value = round(p_value, 4)\n",
    "    print(year, alpha, beta, r_value, p_value)"
   ]
  },
  {
   "cell_type": "markdown",
   "metadata": {},
   "source": [
    "```\n",
    "2014 0.001338 0.869 0.4437 0.0\n",
    "2015 -1e-06 1.1458 0.6639 0.0\n",
    "2016 0.000176 1.0086 0.5659 0.0\n",
    "2017 0.00066 1.3641 0.518 0.0\n",
    "2018 0.000193 1.2565 0.7454 0.0\n",
    "```"
   ]
  },
  {
   "cell_type": "markdown",
   "metadata": {},
   "source": [
    "Beta系数的修正\n",
    "\n",
    "许多研究者发现，Beta系数存在“均值回归”的趋势，\n",
    "\n",
    "也就是说，如果当期的beta值小于1，则下一期的beta值可能会变大，反之亦然。\n",
    "\n",
    "对此，可以采用一种简单的方式对beta进行调整：\n",
    "\n",
    "B_adj3 = (2/3) * B + (1/3) * 1.0"
   ]
  },
  {
   "cell_type": "markdown",
   "metadata": {},
   "source": [
    "Scholes-William修正Beta\n",
    "\n",
    "股票交易不活络或过热时，单因子模型所估计的系统风险即beta值会产生偏误：\n",
    "\n",
    "当股票交易比市场交易平均水平活跃时，所求出之β估计值向上偏误（biased upward），\n",
    "\n",
    "反之，则β估计值向下偏误（biased downward）。\n",
    "\n",
    "因此，针对市场上一些交易较不活跃的股票，Dimson(1979)及Scholes and Williams (1977)各提出修正方法：\n",
    "\n",
    "Scholes-Williams的修正β计算方法为利用个股报酬率分别对落后1期市场报酬率、当期市场报酬率及领先1期市场报酬率作简单回归分析求出各系数,将其相加，再除以(1+2P_m)，其中 P_m 为市场收益率的一阶序列相关系数：\n",
    "\n",
    "B = (B**(-1) + B**(0) + B**(1)) / (1+2Pm)"
   ]
  },
  {
   "cell_type": "markdown",
   "metadata": {},
   "source": [
    "其中，三个beta的计算如下：\n",
    "\n",
    "R_t = a + b**(-1) * R_(m, t-1) + E_t\n",
    "\n",
    "R_t = a + b**(0) * R_(m, t) + E_t\n",
    "\n",
    "R_t = a + b**(+1) * R_(m, t+1) + E_t"
   ]
  },
  {
   "cell_type": "code",
   "execution_count": null,
   "metadata": {},
   "outputs": [],
   "source": [
    "results = stats.linregress(return_market.ret, return_apple.ret)\n",
    "beta_current = results.slope\n",
    "results = stats.linregress(return_market.ret[:-1], return_apple.ret[1:])\n",
    "beta_lag = results.slope\n",
    "results = stats.linregress(return_market.ret[1:],return_apple.ret[:-1])\n",
    "beta_forward = results.slope\n",
    "print(beta_lag, beta_current, beta_forward)\n",
    "\n",
    "rho_market = return_market.ret.autocorr(lag=1)\n",
    "print(rho_market)\n",
    "\n",
    "adjusted_beta = (beta_current + beta_lag + beta_forward) / (1+2*rho_market)\n",
    "print(adjusted_beta)"
   ]
  },
  {
   "cell_type": "markdown",
   "metadata": {},
   "source": [
    "```\n",
    "-0.045779304294165386 1.1272452267207456 0.0448843577857814\n",
    "-0.009859925937180204\n",
    "1.1490085587941545\n",
    "```"
   ]
  },
  {
   "cell_type": "code",
   "execution_count": null,
   "metadata": {},
   "outputs": [],
   "source": [
    "results = stats.linregress(return_apple.ret, return_market.ret)\n",
    "print(results)"
   ]
  },
  {
   "cell_type": "markdown",
   "metadata": {},
   "source": [
    "```\n",
    "LinregressResult(slope=0.3412508659195776, intercept=1.0421565455574495e-05, rvalue=0.620220452518429, pvalue=1.311085503675735e-134, stderr=0.012178272855290141)\n",
    "```"
   ]
  },
  {
   "cell_type": "markdown",
   "metadata": {},
   "source": [
    "小结\n",
    "\n",
    "本文简单介绍了金融中基础性的 CAPM 模型以及 Beta 系数的估计和调整方法，\n",
    "\n",
    "作为一种单因子模型，CAPM以其易用性得到了广泛认可，\n",
    "\n",
    "但是从Beta系数的调整我们也可以发现，单因子模型在许多情况下还有着相当的局限性，\n",
    "\n",
    "所以多因子模型也就自然而然地出现了。"
   ]
  }
 ],
 "metadata": {
  "kernelspec": {
   "display_name": "Python 3.8.13 ('py38')",
   "language": "python",
   "name": "python3"
  },
  "language_info": {
   "codemirror_mode": {
    "name": "ipython",
    "version": 3
   },
   "file_extension": ".py",
   "mimetype": "text/x-python",
   "name": "python",
   "nbconvert_exporter": "python",
   "pygments_lexer": "ipython3",
   "version": "3.8.13"
  },
  "orig_nbformat": 4,
  "vscode": {
   "interpreter": {
    "hash": "6869619afde5ccaa692f7f4d174735a0f86b1f7ceee086952855511b0b6edec0"
   }
  }
 },
 "nbformat": 4,
 "nbformat_minor": 2
}
