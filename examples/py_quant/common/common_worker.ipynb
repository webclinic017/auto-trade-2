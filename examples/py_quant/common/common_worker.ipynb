{
 "cells": [
  {
   "cell_type": "markdown",
   "metadata": {},
   "source": [
    "# Python & PosgresPG 并行处理"
   ]
  },
  {
   "cell_type": "markdown",
   "metadata": {},
   "source": [
    "## 单机版"
   ]
  },
  {
   "cell_type": "code",
   "execution_count": 1,
   "metadata": {},
   "outputs": [],
   "source": [
    "from mimetypes import suffix_map\n",
    "import pandas as pd\n",
    "from   pandas import DataFrame\n",
    "\n",
    "import gc   # garbage collector\n",
    "\n",
    "import time\n",
    "\n",
    "import psycopg2     # 该库用于在 python 中调用 postgreSQL\n",
    "\n",
    "from  multiprocessing import Pool      # 用于控制并行执行的包"
   ]
  },
  {
   "cell_type": "code",
   "execution_count": 2,
   "metadata": {},
   "outputs": [],
   "source": [
    "# 添加python搜索路径， 后续搜索导入的库包时，就会从该路径导入\n",
    "# path = \"/Users/wangjianxiong/Desktop/《并行大数据处理：基于Python、PostgreSQL及其他》/1_书稿_ing/2_各章图表、示例代码及附加资料/CH09_分布式并行处理/2_代码/\"\n",
    "path = f\"/Users/afirez/studio/python/auto-trade/examples/py_quant/common/\"\n",
    "import sys\n",
    "sys.path.append(path)"
   ]
  },
  {
   "cell_type": "code",
   "execution_count": 3,
   "metadata": {},
   "outputs": [
    {
     "data": {
      "text/plain": [
       "{'host': '192.168.31.110',\n",
       " 'port': 5433,\n",
       " 'user': 'postgres',\n",
       " 'password': 'postgres',\n",
       " 'db': 'k_house'}"
      ]
     },
     "execution_count": 3,
     "metadata": {},
     "output_type": "execute_result"
    }
   ],
   "source": [
    "import config\n",
    "\n",
    "config.db_pg"
   ]
  },
  {
   "cell_type": "code",
   "execution_count": 4,
   "metadata": {},
   "outputs": [
    {
     "name": "stdout",
     "output_type": "stream",
     "text": [
      "pg_host : 192.168.31.110 ,pg_user : postgres ,pg_db : k_house\n"
     ]
    }
   ],
   "source": [
    "import common_pg"
   ]
  },
  {
   "cell_type": "code",
   "execution_count": 5,
   "metadata": {},
   "outputs": [],
   "source": [
    "# 0 准备工作\n",
    "\n",
    "dbname = \"k_house\"\n",
    "#   0.1 创建数据库连接\n",
    "\n",
    "#  创建数据库 股票分析数据库 的连接 \n",
    "# conn, curs, engine = common_pg.creat_conn_with_pg(dbname=f'{dbname}_for_test')\n",
    "\n",
    "#  创建数据库 stock_data 的连接 \n",
    "conn2, curs2, engine2 = common_pg.creat_conn_with_pg(dbname=dbname)"
   ]
  },
  {
   "cell_type": "code",
   "execution_count": 112,
   "metadata": {},
   "outputs": [
    {
     "data": {
      "text/plain": [
       "1083"
      ]
     },
     "execution_count": 112,
     "metadata": {},
     "output_type": "execute_result"
    }
   ],
   "source": [
    "def get_task_info():\n",
    "    df = pd.read_sql_query(f\"\"\"SELECT *\n",
    "                                   FROM task_tool_并行任务分配信息表;\"\"\",\n",
    "                        con = engine2)\n",
    "    return df\n",
    "\n",
    "df = get_task_info()\n",
    "\n",
    "df[df['处理状态'] == 0]\n",
    "len(df[df['处理状态'] == 0])"
   ]
  },
  {
   "cell_type": "code",
   "execution_count": 113,
   "metadata": {},
   "outputs": [
    {
     "data": {
      "text/plain": [
       "4844"
      ]
     },
     "execution_count": 113,
     "metadata": {},
     "output_type": "execute_result"
    }
   ],
   "source": [
    "def get_stock_info_a_code_name():\n",
    "    df = pd.read_sql_query(f\"\"\"SELECT *\n",
    "                                   FROM stock_info_a_code_name;\"\"\",\n",
    "                        con = engine2)\n",
    "    return df\n",
    "\n",
    "df = get_stock_info_a_code_name()\n",
    "\n",
    "\n",
    "len(df)"
   ]
  },
  {
   "cell_type": "code",
   "execution_count": null,
   "metadata": {},
   "outputs": [],
   "source": [
    "#  0.2 给出并行执行进程数\n",
    "\n",
    "worker_number = 4"
   ]
  },
  {
   "cell_type": "code",
   "execution_count": null,
   "metadata": {},
   "outputs": [],
   "source": [
    "#  0.3 给出当前日期\n",
    "\n",
    "time_local           = time.localtime()       # 提取本地时间\n",
    "date_of_today        = time.strftime(\"%Y-%m-%d\", time_local) "
   ]
  },
  {
   "cell_type": "code",
   "execution_count": null,
   "metadata": {},
   "outputs": [],
   "source": [
    "# 1. 在数据库中创建数据表 a_k_dayly股票日k行情表 \n",
    "\n",
    "def create_db_table_k_dayly():\n",
    "  try:\n",
    "    #   1.1 为了避免出现已存在错误，先删除\n",
    "    curs2.execute(\"\"\"DROP TABLE a_k_dayly_股票日k行情表;\"\"\")\n",
    "    conn2.commit()\n",
    "  except:\n",
    "    conn2.rollback()\n",
    "    \n",
    "  try:\n",
    "    #   1.2 建数日度股票交易情况统计表\n",
    "    curs2.execute(\"\"\"CREATE TABLE a_k_dayly_股票日k行情表\n",
    "                           (date_交易日期           date           NOT NULL,\n",
    "                            \n",
    "                            symbel_代码            numeric(20,0)  DEFAULT -1,\n",
    "                            name_名称              numeric(20,0)  DEFAULT -1,\n",
    "                            open_开盘              numeric(20,0)  DEFAULT -1,\n",
    "                            close_收盘             numeric(20,0)  DEFAULT -1,\n",
    "                            low_最低               numeric(20,0)  DEFAULT -1,\n",
    "                            high_最高              numeric(20,0)  DEFAULT -1,\n",
    "                            volume_成交量          numeric(20,0)  DEFAULT -1,\n",
    "                            );\"\"\")\n",
    "\n",
    "    #   1.3 添加索引\n",
    "    curs2.execute(\"\"\"CREATE INDEX a_k_dayly_date_交易日期 ON a_k_dayly_股票日k行情表 (date_交易日期);\"\"\"\n",
    "                 )\n",
    "                            \n",
    "    conn2.commit()\n",
    "    \n",
    "    print('a_k_dayly_股票日k行情表 创建成功')\n",
    "    \n",
    "  except Exception as e:\n",
    "    print(e)\n",
    "    conn2.rollback()\n",
    "    print('a_k_dayly_股票日k行情表 创建失败')"
   ]
  },
  {
   "cell_type": "code",
   "execution_count": null,
   "metadata": {},
   "outputs": [],
   "source": [
    "# 2. 在数据库中创建数据表 a_symbel_股票代码表 \n",
    "\n",
    "def create_db_table_symbel():\n",
    "  try:\n",
    "    #   2.1 为了避免出现已存在错误，先删除\n",
    "    curs2.execute(\"\"\"DROP TABLE a_symbel_股票代码表;\"\"\")\n",
    "    conn2.commit()\n",
    "  except:\n",
    "    conn2.rollback()\n",
    "    \n",
    "  try:\n",
    "    #   2.2 建数日度股票交易情况统计表\n",
    "    curs2.execute(\"\"\"CREATE TABLE a_symbel_股票代码表\n",
    "                           (date_上市日期         date           NOT NULL,\n",
    "                            \n",
    "                            symbel_代码            numeric(20,0)  DEFAULT -1,\n",
    "                            name_名称              numeric(20,0)  DEFAULT -1,\n",
    "                            );\"\"\")\n",
    "\n",
    "    #   3.3 添加索引\n",
    "    curs2.execute(\"\"\"CREATE INDEX a_symbel_symbel_代码 ON a_symbel_股票代码表 (symbel_代码);\"\"\"\n",
    "                 )\n",
    "                            \n",
    "    conn2.commit()\n",
    "    \n",
    "    print('a_symbel_股票代码表 创建成功')\n",
    "    \n",
    "  except Exception as e:\n",
    "    print(e)\n",
    "    conn2.rollback()\n",
    "    print('a_symbel_股票代码表 创建失败')"
   ]
  },
  {
   "cell_type": "code",
   "execution_count": null,
   "metadata": {},
   "outputs": [],
   "source": [
    "#  3 在数据库中创建任务分配表，用于存储分组信息及分组处理进度信息\n",
    "\n",
    "#    3.1 创建 task_tool_并行任务分配信息表    \n",
    "\n",
    "def task_mgr_prepare(): \n",
    "    # 读入股票代码表\n",
    "    df = pd.read_sql_query(f\"\"\"SELECT *\n",
    "                                   FROM a_symbel_股票代码表;\"\"\",\n",
    "                        con = engine2)\n",
    "\n",
    "    # 仅保留所需变量\n",
    "    df = df[['symbel_代码',\n",
    "         ]]\n",
    "    df['task_tag'] = df['symbel_代码']\n",
    "    df = df[['task_tag',\n",
    "         ]]\n",
    "\n",
    "    # 添加序号列： 后面将基于“序号列”的取值，来分配并行计算任务\n",
    "    df['分组序号'] = [i for i in range(len(df))]             # 利用列表解析，生成连续编码的列表，并将其写入新建的数据列“分组序号”\n",
    "\n",
    "\n",
    "    # 增加处理状态标记变量\n",
    "    df['处理状态'] = 0\n",
    "    return df"
   ]
  },
  {
   "cell_type": "code",
   "execution_count": null,
   "metadata": {},
   "outputs": [],
   "source": [
    "#    3.2 任务分配信息写入数据库   \n",
    "\n",
    "def task_mgr_to_db(df):\n",
    "  df.to_sql('task_tool_并行任务分配信息表',\n",
    "          engine2,\n",
    "          index     = False,\n",
    "          if_exists = 'replace')    # 写入数据库  还有一个参数是  append，那是附加在表后\n",
    "  # 添加索引\n",
    "  curs2.execute(\"\"\"CREATE  INDEX task_tool_1      ON  task_tool_并行任务分配信息表  (symbel_代码); \n",
    "                CREATE  INDEX task_tool_2      ON  task_tool_并行任务分配信息表  (分组序号);\n",
    "                CREATE  INDEX task_tool_3      ON  task_tool_并行任务分配信息表  (处理状态);\"\"\"\n",
    "            )\n",
    "  conn2.commit()"
   ]
  },
  {
   "cell_type": "code",
   "execution_count": null,
   "metadata": {},
   "outputs": [],
   "source": [
    "# 4. 基于“分组”，进行并行计算\n",
    "\n",
    "#    4.0 准备工作：清空分组处理记录，以便重新开始\n",
    "    # 如果首次执行，则执行以下操作：将所有处理记录归零\n",
    "    # 如果是中断后执行，无需执行任何特别操作！！！\n",
    "def task_tool_reset_state():\n",
    "    curs2.execute(\"\"\"UPDATE     task_tool_并行任务分配信息表\n",
    "                   SET     处理状态     = %s;\"\"\", \n",
    "               (0,\n",
    "                ))\n",
    "    conn2.commit()"
   ]
  },
  {
   "cell_type": "code",
   "execution_count": null,
   "metadata": {},
   "outputs": [],
   "source": [
    "def doOnTask(task_tag):\n",
    "    symbel = task_tag\n",
    "    "
   ]
  },
  {
   "cell_type": "code",
   "execution_count": null,
   "metadata": {},
   "outputs": [],
   "source": [
    "#    2.1 创建并行执行函数\n",
    "def task_run(i, worker_num):\n",
    "    \"\"\"\n",
    "    目标：\n",
    "         本函数为并行任务函数，用于在多进程环境中进行并行数据处理；\n",
    "         \n",
    "    参数：\n",
    "         i,             int,     执行本函数的当前进程的编号，从0开始编号；\n",
    "         worker_num,   int,     执行并行计算的并行进程总数。\n",
    "    \n",
    "    返回值：\n",
    "          None\n",
    "\n",
    "    \"\"\"\n",
    "\n",
    "    print(f\"分组{i} start\")\n",
    "\n",
    "        #  创建数据库 股票分析数据库 的连接 \n",
    "    # conn, curs, engine = common_pg.creat_conn_with_pg(dbname=f'{dbname}_for_test')\n",
    "    \n",
    "    #  创建数据库 stock_data 的连接 \n",
    "    conn2, curs2, engine2 = common_pg.creat_conn_with_pg(dbname=dbname)\n",
    "    \n",
    "    \n",
    "    count_bat = 0\n",
    "\n",
    "    while True:\n",
    "\n",
    "        ##########################\n",
    "        #   2.1.0 设定退出条件：如果所有分组数据都被处理，则退出\n",
    "        \n",
    "        # 读入所有未处理的小组\n",
    "        df  = pd.read_sql_query(\"\"\"SELECT   *\n",
    "                                              FROM task_tool_并行任务分配信息表 \n",
    "                                                WHERE 处理状态  = 0          --  未被处理\n",
    "                                                --LIMIT(1000)               -- 不能仅仅取一部分，应该全部都要取出来，不然会出错！！！（因为每次取到的，是同一批？）\n",
    "                                                ;\"\"\",    \n",
    "                                 con    = engine2)  # 读取数据\n",
    "        \n",
    "        print(f\"{i} 未处理 {len(df)}\")\n",
    "        # 过滤出“被最大并行进程数整除后的余数”与“本进程编号相等”的数据行\n",
    "        df['余数'] = df['分组序号']% worker_num\n",
    "\n",
    "        print(f\"{i} 余数 {df['余数']}\")\n",
    "        df = df[df['余数'] ==  i]\n",
    "        \n",
    "        print(f\"{i} 余数 == i {df}\")\n",
    "        \n",
    "        # 重设索引为依次渐增的数字索引       \n",
    "        df.reset_index(drop=True,inplace=True) \n",
    "                \n",
    "        \n",
    "        # 如果满足条件的小组不存在，则跳出循环：此时，已经处理完毕\n",
    "        if len(df) == 0:\n",
    "            # conn.close()         # 断了数据库连接\n",
    "            conn2.close()         # 断了数据库连接\n",
    "            break\n",
    "\n",
    "        ##########################\n",
    "        #   2.1.1 导入待处理数据          \n",
    "        \n",
    "        #      2.1.1.0 准备阶段\n",
    "        \n",
    "        # 提取第一行所对应分组，作为待处理数据\n",
    "        task_tag = df.at[0, 'task_tag'] \n",
    "        print(f\"{i} task_tag {task_tag}\")\n",
    "\n",
    "        doOnTask(task_tag)\n",
    "\n",
    "                # 累计并显示进度        \n",
    "        count_bat += 1  \n",
    "        if count_bat%1 == 0:\n",
    "            print('代码文件 1_1_单机版_分布式并行计算方案_*.py 的第2步-->>> 第 {} 个子进程工作进度：已完成第 {} 组的数据处理，还有 {} 组数据等待处理 '.format(i, count_bat, len(df)))\n",
    " \n",
    "    \n",
    "        del df  # 手动删对象\n",
    "        \n",
    "        # 清理内存\n",
    "        if count_bat%10 == 0:\n",
    "            gc.collect()\n",
    "            \n",
    "\n",
    "    return None"
   ]
  },
  {
   "cell_type": "code",
   "execution_count": null,
   "metadata": {},
   "outputs": [],
   "source": [
    "#    2.2 调用并行执行函数         (MacOS上的新版 Spyder，并行也只能在“__name__ == '__main__'”在进行了？)\n",
    "\n",
    "if __name__ == '__main__':\n",
    "    \n",
    "                \n",
    "    t_start=time.time()\n",
    "    pool = Pool(worker_number) # parallel_procedure_number 给出了并行执行的进程数\n",
    "    \n",
    "    for i in range(worker_number):\n",
    "        time.sleep(10)    # 缺省值设成了 0.1，实际运行设高一点，以免各个进程在查询数据库时相互竞争...\n",
    "        print('提醒：正在开启第 {} 个并行子进程'.format(i))\n",
    "        pool.apply_async(task_run, (i, worker_number))\n",
    "    pool.close()\n",
    "    pool.join()  # 进程池中进程执行完毕后再关闭，如果注释，那么程序直接关闭。\n",
    "    \n",
    "    # 给出当前日期、时间信息\n",
    "    time_local    = time.localtime()       # 提取本地时间\n",
    "    date_now      = time.strftime(\"%Y-%m-%d\", time_local)   # 转为表示日期的字符串\n",
    "    time_now      = time.strftime(\"%H时%M分\", time_local)   # 转为表示小时和分钟的字符串\n",
    "    print('现在是 {} ，本次数据处理已执行完毕'.format(time_now))    \n",
    "    \n",
    "    \n",
    "             \n",
    "    #######################################        \n",
    "            \n",
    "    # Final. 做最后处理，并断开主进程的数据库连接\n",
    "    \n",
    "    # 删除任务分配表        \n",
    "    curs2.execute(\"\"\"\n",
    "                    DROP  table task_tool_并行任务分配信息表;\n",
    "                    \"\"\")   \n",
    "    conn2.commit()   \n",
    "    \n",
    "    # 断开主进程的数据库连接\n",
    "    # conn.close()\n",
    "    conn2.close()"
   ]
  }
 ],
 "metadata": {
  "interpreter": {
   "hash": "6869619afde5ccaa692f7f4d174735a0f86b1f7ceee086952855511b0b6edec0"
  },
  "kernelspec": {
   "display_name": "Python 3.8.11 ('py38')",
   "language": "python",
   "name": "python3"
  },
  "language_info": {
   "codemirror_mode": {
    "name": "ipython",
    "version": 3
   },
   "file_extension": ".py",
   "mimetype": "text/x-python",
   "name": "python",
   "nbconvert_exporter": "python",
   "pygments_lexer": "ipython3",
   "version": "3.8.11"
  },
  "orig_nbformat": 4
 },
 "nbformat": 4,
 "nbformat_minor": 2
}
